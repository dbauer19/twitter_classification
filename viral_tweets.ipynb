{
 "cells": [
  {
   "cell_type": "markdown",
   "metadata": {},
   "source": [
    "# Viral Tweets: K-Nearest Neighbor Classifier \n",
    "\n",
    "Twitter data provided in JSON files by Codecademy https://www.codecademy.com/paths/data-science/tracks/supervised-machine-learning-cumulative-project-skill-path/modules/supervised-learning-cumulative-project-skill-path/informationals/twitter-classification-cumulative-project-skill-path\n",
    "\n",
    "In this project, a KNN classifier will be built with the goal of classifying a tweet as being either viral or non-viral based on various features of a tweet and a predetermined virality label. Whether a tweet is considered viral or not is determined by the number of retweets a particular tweet gets."
   ]
  },
  {
   "cell_type": "code",
   "execution_count": 1,
   "metadata": {},
   "outputs": [
    {
     "name": "stdout",
     "output_type": "stream",
     "text": [
      "11099\n",
      "Index(['created_at', 'id', 'id_str', 'text', 'truncated', 'entities',\n",
      "       'metadata', 'source', 'in_reply_to_status_id',\n",
      "       'in_reply_to_status_id_str', 'in_reply_to_user_id',\n",
      "       'in_reply_to_user_id_str', 'in_reply_to_screen_name', 'user', 'geo',\n",
      "       'coordinates', 'place', 'contributors', 'retweeted_status',\n",
      "       'is_quote_status', 'retweet_count', 'favorite_count', 'favorited',\n",
      "       'retweeted', 'lang', 'possibly_sensitive', 'quoted_status_id',\n",
      "       'quoted_status_id_str', 'extended_entities', 'quoted_status',\n",
      "       'withheld_in_countries'],\n",
      "      dtype='object')\n",
      "RT @KWWLStormTrack7: We are more than a month into summer but the days are getting shorter. The sunrise is about 25 minutes later on July 3…\n",
      "Waterloo, Iowa\n"
     ]
    }
   ],
   "source": [
    "# ingesting and inspecting the data\n",
    "import pandas as pd\n",
    "\n",
    "all_tweets = pd.read_json(\"random_tweets.json\", lines=True)\n",
    "\n",
    "print(len(all_tweets))\n",
    "print(all_tweets.columns)\n",
    "print(all_tweets.loc[0]['text'])\n",
    "print(all_tweets.loc[0]['user']['location'])"
   ]
  },
  {
   "cell_type": "markdown",
   "metadata": {},
   "source": [
    "# Defining Viral Tweets\n",
    "\n"
   ]
  },
  {
   "cell_type": "code",
   "execution_count": 2,
   "metadata": {},
   "outputs": [
    {
     "name": "stdout",
     "output_type": "stream",
     "text": [
      "13.0\n",
      "2777.95639246779\n"
     ]
    }
   ],
   "source": [
    "# inspecting median and mean number of retweets each particular tweet got in the dataset\n",
    "import numpy as np\n",
    "\n",
    "median_retweets = all_tweets['retweet_count'].median()\n",
    "print(median_retweets)\n",
    "\n",
    "mean_retweets = all_tweets['retweet_count'].mean()\n",
    "print(mean_retweets)"
   ]
  },
  {
   "cell_type": "code",
   "execution_count": 3,
   "metadata": {},
   "outputs": [
    {
     "name": "stdout",
     "output_type": "stream",
     "text": [
      "0    6490\n",
      "1    4609\n",
      "Name: is_viral, dtype: int64\n"
     ]
    }
   ],
   "source": [
    "# Defining what is considered a viral tweet (this will be altered later)\n",
    "# A tweet being viral is a very relative term, so for now the threshold will start at 50 retweets\n",
    "viral_tweet = 50 #retweets\n",
    "\n",
    "# Observing how many tweets were viral\n",
    "all_tweets['is_viral'] = np.where(all_tweets['retweet_count'] >= viral_tweet, 1, 0)\n",
    "print(all_tweets['is_viral'].value_counts())"
   ]
  },
  {
   "cell_type": "markdown",
   "metadata": {},
   "source": [
    "# Making Features\n",
    "\n",
    "Now that a label has been created for every tweet in the dataset, we can begin thinking about which features might determine whether a tweet is viral."
   ]
  },
  {
   "cell_type": "code",
   "execution_count": 4,
   "metadata": {},
   "outputs": [],
   "source": [
    "# Creating new columns in the dataset to represent these features.\n",
    "\n",
    "all_tweets['tweet_length'] = all_tweets.apply(lambda tweet: len(tweet['text']), axis=1)\n",
    "all_tweets['followers_count'] = all_tweets.apply(lambda tweet: (tweet['user']['followers_count']), axis=1)\n",
    "all_tweets['friends_count'] = all_tweets.apply(lambda tweet: tweet['user']['friends_count'], axis=1)"
   ]
  },
  {
   "cell_type": "code",
   "execution_count": 5,
   "metadata": {
    "scrolled": true
   },
   "outputs": [
    {
     "data": {
      "text/plain": [
       "0     9495\n",
       "1     1091\n",
       "2      291\n",
       "3      109\n",
       "4       51\n",
       "5       27\n",
       "6       17\n",
       "7       10\n",
       "9        4\n",
       "8        3\n",
       "10       1\n",
       "Name: hashtags, dtype: int64"
      ]
     },
     "execution_count": 5,
     "metadata": {},
     "output_type": "execute_result"
    }
   ],
   "source": [
    "all_tweets['hashtags'] = all_tweets.apply(lambda tweet: tweet['text'].count('#'), axis = 1)\n",
    "all_tweets['hashtags'].value_counts()"
   ]
  },
  {
   "cell_type": "markdown",
   "metadata": {},
   "source": [
    "# Normalizing The Data\n",
    "\n",
    "The data will now be scaled appropriately for machine learning, and the desired features will be isolated from the rest of the dataset."
   ]
  },
  {
   "cell_type": "code",
   "execution_count": 6,
   "metadata": {
    "scrolled": true
   },
   "outputs": [
    {
     "name": "stdout",
     "output_type": "stream",
     "text": [
      "[ 0.6164054  -0.02878298 -0.14483305]\n"
     ]
    }
   ],
   "source": [
    "from sklearn.preprocessing import scale\n",
    "\n",
    "labels = all_tweets['is_viral']\n",
    "data = all_tweets[['tweet_length','followers_count','friends_count']]\n",
    "scaled_data = scale(data, axis=0)\n",
    "\n",
    "print(scaled_data[0])"
   ]
  },
  {
   "cell_type": "markdown",
   "metadata": {},
   "source": [
    "# Creating the Training Set and Test Set"
   ]
  },
  {
   "cell_type": "code",
   "execution_count": 7,
   "metadata": {},
   "outputs": [],
   "source": [
    "from sklearn.model_selection import train_test_split\n",
    "\n",
    "train_data, test_data, train_labels, test_labels = train_test_split(scaled_data, labels, test_size = 0.2, random_state = 1)"
   ]
  },
  {
   "cell_type": "markdown",
   "metadata": {},
   "source": [
    "# Using the Classifier"
   ]
  },
  {
   "cell_type": "code",
   "execution_count": 8,
   "metadata": {},
   "outputs": [
    {
     "name": "stdout",
     "output_type": "stream",
     "text": [
      "0.5887387387387387\n"
     ]
    }
   ],
   "source": [
    "from sklearn.neighbors import KNeighborsClassifier\n",
    "\n",
    "classifier = KNeighborsClassifier(n_neighbors = 5)\n",
    "classifier.fit(train_data, train_labels)\n",
    "print(classifier.score(test_data, test_labels))"
   ]
  },
  {
   "cell_type": "markdown",
   "metadata": {},
   "source": [
    "# Choosing K\n",
    "\n",
    "The classifier was tested with `k = 5`, but this did not produce a very good score for R^2. Different values of k will be tested to see if the score can be improved."
   ]
  },
  {
   "cell_type": "code",
   "execution_count": 9,
   "metadata": {},
   "outputs": [
    {
     "data": {
      "text/plain": [
       "<Figure size 640x480 with 1 Axes>"
      ]
     },
     "metadata": {},
     "output_type": "display_data"
    }
   ],
   "source": [
    "import matplotlib.pyplot as plt\n",
    "\n",
    "scores = []\n",
    "for k in range(1, 200):\n",
    "    classifier = KNeighborsClassifier(n_neighbors = k)\n",
    "    classifier.fit(train_data, train_labels)\n",
    "    scores.append(classifier.score(test_data, test_labels))\n",
    "plt.plot(range(1, 200), scores)\n",
    "plt.xlabel('K')\n",
    "plt.ylabel('Classifier Score')\n",
    "plt.show()"
   ]
  },
  {
   "cell_type": "markdown",
   "metadata": {},
   "source": [
    "# Replication\n",
    "\n",
    "Using values of k ranging from 1 to 200 did not improve the classifier's accuracy by a significant margin. Therefore, I will write a function that replicates this classifier with different virality thresholds and tweet features as parameters to see how the classifier can be improved."
   ]
  },
  {
   "cell_type": "code",
   "execution_count": 10,
   "metadata": {},
   "outputs": [],
   "source": [
    "def viral_tweets_classifier(viral, features):\n",
    "    \n",
    "    # establishing features and what is considered a viral tweet\n",
    "    all_tweets['viral'] = np.where(all_tweets['retweet_count'] >= viral, 1, 0)\n",
    "    labels = all_tweets['viral']\n",
    "    data = all_tweets[features]\n",
    "    scaled_data = scale(data, axis=0)\n",
    "    \n",
    "    # train test split\n",
    "    train_data, test_data, train_labels, test_labels = train_test_split(scaled_data, labels, test_size = 0.2, random_state = 1)\n",
    "    \n",
    "    # Plotting score of KNN classifier with different values of k\n",
    "    scores = []\n",
    "    for k in range(1, 200):\n",
    "        classifier = KNeighborsClassifier(n_neighbors = k)\n",
    "        classifier.fit(train_data, train_labels)\n",
    "        scores.append(classifier.score(test_data, test_labels))\n",
    "    k = range(1, 200)\n",
    "    plt.plot(k, scores)\n",
    "    plt.xlabel('K')\n",
    "    plt.ylabel('Classifier Score')\n",
    "    plt.show()\n",
    "    \n",
    "    # returning the best score and accompanying value of k\n",
    "    best_score = max(scores)\n",
    "    best_k = k[scores.index(best_score)]\n",
    "    return \"The best classifier score is \" + str(best_score) + \" where k = \" + str(best_k)\n"
   ]
  },
  {
   "cell_type": "code",
   "execution_count": 11,
   "metadata": {},
   "outputs": [
    {
     "data": {
      "image/png": "[encoded data removed]",
      "text/plain": [
       "<Figure size 432x288 with 1 Axes>"
      ]
     },
     "metadata": {
      "needs_background": "light"
     },
     "output_type": "display_data"
    },
    {
     "data": {
      "text/plain": [
       "'The best classifier score is 0.6454954954954955 where k = 34'"
      ]
     },
     "execution_count": 11,
     "metadata": {},
     "output_type": "execute_result"
    }
   ],
   "source": [
    "viral_tweets_classifier(100, ['tweet_length','followers_count','friends_count'])"
   ]
  },
  {
   "cell_type": "code",
   "execution_count": 12,
   "metadata": {},
   "outputs": [
    {
     "data": {
      "image/png": "[encoded data removed]",
      "text/plain": [
       "<Figure size 432x288 with 1 Axes>"
      ]
     },
     "metadata": {
      "needs_background": "light"
     },
     "output_type": "display_data"
    },
    {
     "data": {
      "text/plain": [
       "'The best classifier score is 0.8157657657657658 where k = 16'"
      ]
     },
     "execution_count": 12,
     "metadata": {},
     "output_type": "execute_result"
    }
   ],
   "source": [
    "viral_tweets_classifier(1000, ['tweet_length','followers_count','friends_count', 'hashtags'])"
   ]
  },
  {
   "cell_type": "code",
   "execution_count": 13,
   "metadata": {},
   "outputs": [
    {
     "data": {
      "image/png": "[encoded data removed]",
      "text/plain": [
       "<Figure size 432x288 with 1 Axes>"
      ]
     },
     "metadata": {
      "needs_background": "light"
     },
     "output_type": "display_data"
    },
    {
     "data": {
      "text/plain": [
       "'The best classifier score is 0.9351351351351351 where k = 14'"
      ]
     },
     "execution_count": 13,
     "metadata": {},
     "output_type": "execute_result"
    }
   ],
   "source": [
    "viral_tweets_classifier(10000, ['tweet_length','followers_count','friends_count', 'hashtags'])"
   ]
  },
  {
   "cell_type": "markdown",
   "metadata": {},
   "source": [
    "As expected, the classifier becomes more accurate as the virality threshold increases, since a tweet's virality can be described by how many retweets it gets. However, it is important to note that if the virality threshold imput into the function becomes too high, the classifier will become less and less useful. Notice how the function call directly above had an R^2 score of 0.9351. Although this particular model is quite accurate, it assumes that people do not conisder tweets that receive less than 10,000 retweets to be viral, which is likely untrue in many instances. Thus, a lower virality threshold would be beneficial. "
   ]
  }
 ],
 "metadata": {
  "kernelspec": {
   "display_name": "Python 3",
   "language": "python",
   "name": "python3"
  },
  "language_info": {
   "codemirror_mode": {
    "name": "ipython",
    "version": 3
   },
   "file_extension": ".py",
   "mimetype": "text/x-python",
   "name": "python",
   "nbconvert_exporter": "python",
   "pygments_lexer": "ipython3",
   "version": "3.7.4"
  }
 },
 "nbformat": 4,
 "nbformat_minor": 2
}
